{
  "nbformat": 4,
  "nbformat_minor": 0,
  "metadata": {
    "colab": {
      "provenance": []
    },
    "kernelspec": {
      "name": "python3",
      "display_name": "Python 3"
    },
    "language_info": {
      "name": "python"
    }
  },
  "cells": [
    {
      "cell_type": "code",
      "source": [
        "! pip install langgraph langchain_core langchain langchain_groq langchain-google-genai"
      ],
      "metadata": {
        "colab": {
          "base_uri": "https://localhost:8080/"
        },
        "id": "Qxd2w8EHLacw",
        "outputId": "303b2818-ad94-45ad-987c-623715476d09"
      },
      "execution_count": 1,
      "outputs": [
        {
          "output_type": "stream",
          "name": "stdout",
          "text": [
            "Requirement already satisfied: langgraph in /usr/local/lib/python3.12/dist-packages (0.6.8)\n",
            "Requirement already satisfied: langchain_core in /usr/local/lib/python3.12/dist-packages (0.3.76)\n",
            "Requirement already satisfied: langchain in /usr/local/lib/python3.12/dist-packages (0.3.27)\n",
            "Requirement already satisfied: langchain_groq in /usr/local/lib/python3.12/dist-packages (0.3.8)\n",
            "Requirement already satisfied: langchain-google-genai in /usr/local/lib/python3.12/dist-packages (2.1.12)\n",
            "Requirement already satisfied: langgraph-checkpoint<3.0.0,>=2.1.0 in /usr/local/lib/python3.12/dist-packages (from langgraph) (2.1.1)\n",
            "Requirement already satisfied: langgraph-prebuilt<0.7.0,>=0.6.0 in /usr/local/lib/python3.12/dist-packages (from langgraph) (0.6.4)\n",
            "Requirement already satisfied: langgraph-sdk<0.3.0,>=0.2.2 in /usr/local/lib/python3.12/dist-packages (from langgraph) (0.2.9)\n",
            "Requirement already satisfied: pydantic>=2.7.4 in /usr/local/lib/python3.12/dist-packages (from langgraph) (2.11.9)\n",
            "Requirement already satisfied: xxhash>=3.5.0 in /usr/local/lib/python3.12/dist-packages (from langgraph) (3.5.0)\n",
            "Requirement already satisfied: langsmith>=0.3.45 in /usr/local/lib/python3.12/dist-packages (from langchain_core) (0.4.28)\n",
            "Requirement already satisfied: tenacity!=8.4.0,<10.0.0,>=8.1.0 in /usr/local/lib/python3.12/dist-packages (from langchain_core) (8.5.0)\n",
            "Requirement already satisfied: jsonpatch<2.0,>=1.33 in /usr/local/lib/python3.12/dist-packages (from langchain_core) (1.33)\n",
            "Requirement already satisfied: PyYAML>=5.3 in /usr/local/lib/python3.12/dist-packages (from langchain_core) (6.0.2)\n",
            "Requirement already satisfied: typing-extensions>=4.7 in /usr/local/lib/python3.12/dist-packages (from langchain_core) (4.15.0)\n",
            "Requirement already satisfied: packaging>=23.2 in /usr/local/lib/python3.12/dist-packages (from langchain_core) (25.0)\n",
            "Requirement already satisfied: langchain-text-splitters<1.0.0,>=0.3.9 in /usr/local/lib/python3.12/dist-packages (from langchain) (0.3.11)\n",
            "Requirement already satisfied: SQLAlchemy<3,>=1.4 in /usr/local/lib/python3.12/dist-packages (from langchain) (2.0.43)\n",
            "Requirement already satisfied: requests<3,>=2 in /usr/local/lib/python3.12/dist-packages (from langchain) (2.32.4)\n",
            "Requirement already satisfied: groq<1,>=0.30.0 in /usr/local/lib/python3.12/dist-packages (from langchain_groq) (0.32.0)\n",
            "Requirement already satisfied: google-ai-generativelanguage<1,>=0.7 in /usr/local/lib/python3.12/dist-packages (from langchain-google-genai) (0.7.0)\n",
            "Requirement already satisfied: filetype<2,>=1.2 in /usr/local/lib/python3.12/dist-packages (from langchain-google-genai) (1.2.0)\n",
            "Requirement already satisfied: google-api-core!=2.0.*,!=2.1.*,!=2.10.*,!=2.2.*,!=2.3.*,!=2.4.*,!=2.5.*,!=2.6.*,!=2.7.*,!=2.8.*,!=2.9.*,<3.0.0,>=1.34.1 in /usr/local/lib/python3.12/dist-packages (from google-api-core[grpc]!=2.0.*,!=2.1.*,!=2.10.*,!=2.2.*,!=2.3.*,!=2.4.*,!=2.5.*,!=2.6.*,!=2.7.*,!=2.8.*,!=2.9.*,<3.0.0,>=1.34.1->google-ai-generativelanguage<1,>=0.7->langchain-google-genai) (2.25.1)\n",
            "Requirement already satisfied: google-auth!=2.24.0,!=2.25.0,<3.0.0,>=2.14.1 in /usr/local/lib/python3.12/dist-packages (from google-ai-generativelanguage<1,>=0.7->langchain-google-genai) (2.38.0)\n",
            "Requirement already satisfied: proto-plus<2.0.0,>=1.22.3 in /usr/local/lib/python3.12/dist-packages (from google-ai-generativelanguage<1,>=0.7->langchain-google-genai) (1.26.1)\n",
            "Requirement already satisfied: protobuf!=4.21.0,!=4.21.1,!=4.21.2,!=4.21.3,!=4.21.4,!=4.21.5,<7.0.0,>=3.20.2 in /usr/local/lib/python3.12/dist-packages (from google-ai-generativelanguage<1,>=0.7->langchain-google-genai) (5.29.5)\n",
            "Requirement already satisfied: anyio<5,>=3.5.0 in /usr/local/lib/python3.12/dist-packages (from groq<1,>=0.30.0->langchain_groq) (4.10.0)\n",
            "Requirement already satisfied: distro<2,>=1.7.0 in /usr/local/lib/python3.12/dist-packages (from groq<1,>=0.30.0->langchain_groq) (1.9.0)\n",
            "Requirement already satisfied: httpx<1,>=0.23.0 in /usr/local/lib/python3.12/dist-packages (from groq<1,>=0.30.0->langchain_groq) (0.28.1)\n",
            "Requirement already satisfied: sniffio in /usr/local/lib/python3.12/dist-packages (from groq<1,>=0.30.0->langchain_groq) (1.3.1)\n",
            "Requirement already satisfied: jsonpointer>=1.9 in /usr/local/lib/python3.12/dist-packages (from jsonpatch<2.0,>=1.33->langchain_core) (3.0.0)\n",
            "Requirement already satisfied: ormsgpack>=1.10.0 in /usr/local/lib/python3.12/dist-packages (from langgraph-checkpoint<3.0.0,>=2.1.0->langgraph) (1.10.0)\n",
            "Requirement already satisfied: orjson>=3.10.1 in /usr/local/lib/python3.12/dist-packages (from langgraph-sdk<0.3.0,>=0.2.2->langgraph) (3.11.3)\n",
            "Requirement already satisfied: requests-toolbelt>=1.0.0 in /usr/local/lib/python3.12/dist-packages (from langsmith>=0.3.45->langchain_core) (1.0.0)\n",
            "Requirement already satisfied: zstandard>=0.23.0 in /usr/local/lib/python3.12/dist-packages (from langsmith>=0.3.45->langchain_core) (0.25.0)\n",
            "Requirement already satisfied: annotated-types>=0.6.0 in /usr/local/lib/python3.12/dist-packages (from pydantic>=2.7.4->langgraph) (0.7.0)\n",
            "Requirement already satisfied: pydantic-core==2.33.2 in /usr/local/lib/python3.12/dist-packages (from pydantic>=2.7.4->langgraph) (2.33.2)\n",
            "Requirement already satisfied: typing-inspection>=0.4.0 in /usr/local/lib/python3.12/dist-packages (from pydantic>=2.7.4->langgraph) (0.4.1)\n",
            "Requirement already satisfied: charset_normalizer<4,>=2 in /usr/local/lib/python3.12/dist-packages (from requests<3,>=2->langchain) (3.4.3)\n",
            "Requirement already satisfied: idna<4,>=2.5 in /usr/local/lib/python3.12/dist-packages (from requests<3,>=2->langchain) (3.10)\n",
            "Requirement already satisfied: urllib3<3,>=1.21.1 in /usr/local/lib/python3.12/dist-packages (from requests<3,>=2->langchain) (2.5.0)\n",
            "Requirement already satisfied: certifi>=2017.4.17 in /usr/local/lib/python3.12/dist-packages (from requests<3,>=2->langchain) (2025.8.3)\n",
            "Requirement already satisfied: greenlet>=1 in /usr/local/lib/python3.12/dist-packages (from SQLAlchemy<3,>=1.4->langchain) (3.2.4)\n",
            "Requirement already satisfied: googleapis-common-protos<2.0.0,>=1.56.2 in /usr/local/lib/python3.12/dist-packages (from google-api-core!=2.0.*,!=2.1.*,!=2.10.*,!=2.2.*,!=2.3.*,!=2.4.*,!=2.5.*,!=2.6.*,!=2.7.*,!=2.8.*,!=2.9.*,<3.0.0,>=1.34.1->google-api-core[grpc]!=2.0.*,!=2.1.*,!=2.10.*,!=2.2.*,!=2.3.*,!=2.4.*,!=2.5.*,!=2.6.*,!=2.7.*,!=2.8.*,!=2.9.*,<3.0.0,>=1.34.1->google-ai-generativelanguage<1,>=0.7->langchain-google-genai) (1.70.0)\n",
            "Requirement already satisfied: grpcio<2.0.0,>=1.33.2 in /usr/local/lib/python3.12/dist-packages (from google-api-core[grpc]!=2.0.*,!=2.1.*,!=2.10.*,!=2.2.*,!=2.3.*,!=2.4.*,!=2.5.*,!=2.6.*,!=2.7.*,!=2.8.*,!=2.9.*,<3.0.0,>=1.34.1->google-ai-generativelanguage<1,>=0.7->langchain-google-genai) (1.75.0)\n",
            "Requirement already satisfied: grpcio-status<2.0.0,>=1.33.2 in /usr/local/lib/python3.12/dist-packages (from google-api-core[grpc]!=2.0.*,!=2.1.*,!=2.10.*,!=2.2.*,!=2.3.*,!=2.4.*,!=2.5.*,!=2.6.*,!=2.7.*,!=2.8.*,!=2.9.*,<3.0.0,>=1.34.1->google-ai-generativelanguage<1,>=0.7->langchain-google-genai) (1.71.2)\n",
            "Requirement already satisfied: cachetools<6.0,>=2.0.0 in /usr/local/lib/python3.12/dist-packages (from google-auth!=2.24.0,!=2.25.0,<3.0.0,>=2.14.1->google-ai-generativelanguage<1,>=0.7->langchain-google-genai) (5.5.2)\n",
            "Requirement already satisfied: pyasn1-modules>=0.2.1 in /usr/local/lib/python3.12/dist-packages (from google-auth!=2.24.0,!=2.25.0,<3.0.0,>=2.14.1->google-ai-generativelanguage<1,>=0.7->langchain-google-genai) (0.4.2)\n",
            "Requirement already satisfied: rsa<5,>=3.1.4 in /usr/local/lib/python3.12/dist-packages (from google-auth!=2.24.0,!=2.25.0,<3.0.0,>=2.14.1->google-ai-generativelanguage<1,>=0.7->langchain-google-genai) (4.9.1)\n",
            "Requirement already satisfied: httpcore==1.* in /usr/local/lib/python3.12/dist-packages (from httpx<1,>=0.23.0->groq<1,>=0.30.0->langchain_groq) (1.0.9)\n",
            "Requirement already satisfied: h11>=0.16 in /usr/local/lib/python3.12/dist-packages (from httpcore==1.*->httpx<1,>=0.23.0->groq<1,>=0.30.0->langchain_groq) (0.16.0)\n",
            "Requirement already satisfied: pyasn1<0.7.0,>=0.6.1 in /usr/local/lib/python3.12/dist-packages (from pyasn1-modules>=0.2.1->google-auth!=2.24.0,!=2.25.0,<3.0.0,>=2.14.1->google-ai-generativelanguage<1,>=0.7->langchain-google-genai) (0.6.1)\n"
          ]
        }
      ]
    },
    {
      "cell_type": "code",
      "execution_count": 8,
      "metadata": {
        "id": "A-z6R-dTKXoX"
      },
      "outputs": [],
      "source": [
        "from typing import Dict, TypedDict\n",
        "from langgraph.graph import StateGraph, END\n",
        "from langchain_core.prompts import ChatPromptTemplate\n",
        "from langchain_groq import ChatGroq\n",
        "from langchain_google_genai import ChatGoogleGenerativeAI\n",
        "\n",
        "from IPython.display import display, Image\n",
        "from langchain_core.runnables.graph import MermaidDrawMethod\n",
        "from dotenv import load_dotenv\n",
        "from google.colab import userdata\n",
        "GROQ_API_KEY = userdata.get('GROQ_API_KEY')"
      ]
    },
    {
      "cell_type": "code",
      "source": [
        "class State(TypedDict):\n",
        "    query: str\n",
        "    category: str\n",
        "    sentiment: str\n",
        "    response: str"
      ],
      "metadata": {
        "id": "LktNEOc6KjBn"
      },
      "execution_count": 9,
      "outputs": []
    },
    {
      "cell_type": "code",
      "source": [
        "MODEL = \"llama-3.1-8b-instant\"\n",
        "def categorize(state: State) -> State:\n",
        "    \"\"\"For categorize the customer queries into Technical issue, Billing issue, or General issue.\"\"\"\n",
        "    prompt = ChatPromptTemplate.from_template(\n",
        "        \"Categorize the following customer query into one of these categories: \"\n",
        "        \"Technical, Billing, General. Query: {query} by the users query \"\n",
        "    )\n",
        "    chain = prompt | ChatGroq(model=MODEL, temperature=0 , api_key=GROQ_API_KEY)\n",
        "    category = chain.invoke({\"query\": state[\"query\"]}).content\n",
        "    return {\"category\": category}\n",
        "\n",
        "def analyze_sentiment(state: State) -> State:\n",
        "    \"\"\"Sentiment Analysis\"\"\"\n",
        "    prompt = ChatPromptTemplate.from_template(\n",
        "        \"Analyze the sentiment of the following customer sentiment classifying the query. \"\n",
        "        \"Respond with either 'Positive', 'Neutral', or 'Negative'. Query: {query}\"\n",
        "    )\n",
        "    chain = prompt | ChatGroq(model=MODEL, temperature=0,api_key=GROQ_API_KEY)\n",
        "    sentiment = chain.invoke({\"query\": state[\"query\"]}).content\n",
        "    return {\"sentiment\": sentiment}\n",
        "\n",
        "def handle_technical(state: State) -> State:\n",
        "    \"\"\"Provide a technical support response to the query.\"\"\"\n",
        "    prompt = ChatPromptTemplate.from_template(\n",
        "        \"Provide a technical support response to the following query: {query}\"\n",
        "    )\n",
        "    chain = prompt | ChatGroq(model=MODEL, temperature=0,api_key=GROQ_API_KEY)\n",
        "    response = chain.invoke({\"query\": state[\"query\"]}).content\n",
        "    return {\"response\": response}\n",
        "\n",
        "def handle_billing(state: State) -> State:\n",
        "    \"\"\"Provide a billing support response to the query.\"\"\"\n",
        "    prompt = ChatPromptTemplate.from_template(\n",
        "        \"Provide a billing support response to the following query: {query}\"\n",
        "    )\n",
        "    chain = prompt | ChatGroq(model=MODEL, temperature=0,api_key=GROQ_API_KEY)\n",
        "    response = chain.invoke({\"query\": state[\"query\"]}).content\n",
        "    return {\"response\": response}\n",
        "\n",
        "def handle_general(state: State) -> State:\n",
        "    \"\"\"Provide a general support response to the query.\"\"\"\n",
        "    prompt = ChatPromptTemplate.from_template(\n",
        "        \"Provide a general support response to the following query: {query}\"\n",
        "    )\n",
        "    chain = prompt | ChatGroq(model=MODEL, temperature=0,api_key=GROQ_API_KEY)\n",
        "    response = chain.invoke({\"query\": state[\"query\"]}).content\n",
        "    return {\"response\": response}\n",
        "\n",
        "def to_human_agent(state: State) -> State:\n",
        "    \"\"\"Escalate the query to a human agent due to negative sentiment.\"\"\"\n",
        "    return {\"response\": \"This query has been escalated to a human agent due to its negative sentiment.\"}\n",
        "\n",
        "def route_query(state: State) -> str:\n",
        "    \"\"\"Route the query based on its sentiment and category.\"\"\"\n",
        "    if state[\"sentiment\"] == \"Negative\":\n",
        "        return \"escalate\"\n",
        "    elif state[\"category\"] == \"Technical\":\n",
        "        return \"handle_technical\"\n",
        "    elif state[\"category\"] == \"Billing\":\n",
        "        return \"handle_billing\"\n",
        "    else:\n",
        "        return \"handle_general\""
      ],
      "metadata": {
        "id": "RlsZnA1UKqnJ"
      },
      "execution_count": 10,
      "outputs": []
    },
    {
      "cell_type": "code",
      "source": [
        "\n",
        "graph_builder = StateGraph(State)\n",
        "\n",
        "\n",
        "graph_builder.add_node(\"categorize\", categorize)\n",
        "graph_builder.add_node(\"analyze_sentiment\", analyze_sentiment)\n",
        "graph_builder.add_node(\"handle_technical\", handle_technical)\n",
        "graph_builder.add_node(\"handle_billing\", handle_billing)\n",
        "graph_builder.add_node(\"handle_general\", handle_general)\n",
        "graph_builder.add_node(\"to_human_agent\", to_human_agent)\n",
        "\n",
        "\n",
        "graph_builder.add_edge(\"categorize\", \"analyze_sentiment\")\n",
        "graph_builder.add_conditional_edges(\n",
        "    \"analyze_sentiment\",\n",
        "    route_query,\n",
        "    {\n",
        "        \"handle_technical\": \"handle_technical\",\n",
        "        \"handle_billing\": \"handle_billing\",\n",
        "        \"handle_general\": \"handle_general\",\n",
        "        \"to_human_agent\": \"to_human_agent\"\n",
        "    }\n",
        ")\n",
        "graph_builder.add_edge(\"handle_technical\", END)\n",
        "graph_builder.add_edge(\"handle_billing\", END)\n",
        "graph_builder.add_edge(\"handle_general\", END)\n",
        "graph_builder.add_edge(\"to_human_agent\", END)\n",
        "\n",
        "\n",
        "graph_builder.set_entry_point(\"categorize\")\n",
        "\n",
        "\n",
        "app = graph_builder.compile()\n",
        "display(\n",
        "    Image(\n",
        "        app.get_graph().draw_mermaid_png(\n",
        "            draw_method=MermaidDrawMethod.API,\n",
        "        )\n",
        "    )\n",
        ")"
      ],
      "metadata": {
        "colab": {
          "base_uri": "https://localhost:8080/",
          "height": 449
        },
        "id": "AIcMHtOTKsRh",
        "outputId": "8b72f0bc-36aa-488c-c8e9-6a74c7fd23a8"
      },
      "execution_count": 11,
      "outputs": [
        {
          "output_type": "display_data",
          "data": {
            "image/png": "[encoded data removed]",
            "text/plain": [
              "<IPython.core.display.Image object>"
            ]
          },
          "metadata": {}
        }
      ]
    },
    {
      "cell_type": "code",
      "source": [
        "def run_customer_support(query: str) -> Dict[str, str]:\n",
        "    \"\"\"Process a customer query through the LangGraph workflow.\n",
        "\n",
        "    Args:\n",
        "        query (str): The customer's query\n",
        "\n",
        "    Returns:\n",
        "        Dict[str, str]: A dictionary containing the query's category, sentiment, and response\n",
        "    \"\"\"\n",
        "    results = app.invoke({\"query\": query})\n",
        "    return {\n",
        "        \"category\": results[\"category\"],\n",
        "        \"sentiment\": results[\"sentiment\"],\n",
        "        \"response\": results[\"response\"]\n",
        "    }"
      ],
      "metadata": {
        "id": "NhCDnehoKzsu"
      },
      "execution_count": 12,
      "outputs": []
    },
    {
      "cell_type": "code",
      "source": [
        "queries =[\"My Samsung S25 's Camera is not working properly , Can i get help to recover my camera? \",\"I need some Help\"\n",
        "          \"where can i find nearest service center in Hyderabad?\",\"What are your Working hours can i visit now?\"\n",
        "          ]\n",
        "for query in queries:\n",
        "  result = run_customer_support(query)\n",
        "  print(f\"Query: {query}\")\n",
        "  print(f\"Category: {result['category']}\")\n",
        "  print(f\"Sentiment: {result['sentiment']}\")\n",
        "  print(f\"Response: {result['response']}\")\n",
        "  print(\"\\n\")\n"
      ],
      "metadata": {
        "colab": {
          "base_uri": "https://localhost:8080/"
        },
        "id": "c5I4WLlSK1Dk",
        "outputId": "effda325-0afa-43c6-8f14-686615f9ec64"
      },
      "execution_count": 16,
      "outputs": [
        {
          "output_type": "stream",
          "name": "stdout",
          "text": [
            "Query: My Samsung S25 's Camera is not working properly , Can i get help to recover my camera? \n",
            "Category: I would categorize the customer query as \"Technical\". \n",
            "\n",
            "The query is related to a specific issue with a product (Samsung S25's camera) and the customer is seeking assistance to resolve the problem, which falls under technical support.\n",
            "Sentiment: The sentiment of this customer query is 'Negative'. The customer is experiencing an issue with their Samsung S25's camera and is seeking help to resolve the problem, indicating frustration or dissatisfaction with the product's performance.\n",
            "Response: I'd be happy to help you troubleshoot the issue with your Samsung S25's camera. Here are some general steps you can try to recover your camera:\n",
            "\n",
            "1. **Restart your phone**: Sometimes, a simple reboot can resolve the issue. Press and hold the power button until your phone shuts down, then turn it back on.\n",
            "2. **Check for software updates**: Ensure your phone's software is up to date, as newer versions may include camera improvements or bug fixes. Go to Settings > Software update > Download and install.\n",
            "3. **Clean the camera lens**: Dirt, dust, or moisture on the camera lens can cause issues. Use a soft cloth to gently wipe the lens clean.\n",
            "4. **Check camera settings**: Ensure the camera app is set to the correct mode (e.g., Auto, Pro, or Portrait). You can also try resetting the camera settings to their default values.\n",
            "5. **Disable and re-enable the camera**: Go to Settings > Apps > Camera > Disable, then enable it again.\n",
            "6. **Clear camera app cache**: Go to Settings > Apps > Camera > Storage > Clear cache.\n",
            "7. **Check for physical damage**: Inspect the camera lens and surrounding area for any signs of physical damage, such as cracks or water damage.\n",
            "8. **Try a different camera app**: Download and install a third-party camera app, such as Google Camera or Open Camera, to see if the issue is specific to the Samsung camera app.\n",
            "9. **Reset your phone to its factory settings**: If none of the above steps work, you can try resetting your phone to its factory settings. This will erase all data, so be sure to back up your important files before doing so.\n",
            "\n",
            "If none of these steps resolve the issue, it's possible that there's a hardware problem with your phone's camera. In this case, you may need to contact Samsung support or visit a Samsung authorized service center for further assistance.\n",
            "\n",
            "Please let me know if you have any further questions or if there's anything else I can help you with.\n",
            "\n",
            "\n",
            "Query: I need some Helpwhere can i find nearest service center in Hyderabad?\n",
            "Category: I would categorize the customer query as \"General\". \n",
            "\n",
            "The query is asking for general information about the location of a service center in Hyderabad, rather than a technical issue with a product or a billing inquiry.\n",
            "Sentiment: The sentiment of this query is 'Neutral'. The customer is asking for assistance and information, which indicates a neutral or non-emotional tone. They are not expressing any satisfaction or dissatisfaction with a product or service, but rather seeking help with a specific inquiry.\n",
            "Response: To find the nearest service center in Hyderabad, you can try the following options:\n",
            "\n",
            "1. **Official Website**: Visit the official website of the company whose product or service you need assistance with. They usually have a \"Support\" or \"Service Center\" section where you can enter your location and find the nearest service center.\n",
            "2. **Google Search**: Type \"service center near me\" or \"nearest service center in Hyderabad\" along with the company name, and Google will show you the nearest service centers in your area.\n",
            "3. **Google Maps**: Open Google Maps on your device, type \"service center\" or the company name, and it will show you the nearest service centers in Hyderabad along with their addresses and directions.\n",
            "4. **Company's Customer Care Number**: Call the company's customer care number and ask them to provide you with the nearest service center in Hyderabad.\n",
            "5. **Online Directories**: Websites like Justdial, Sulekha, or Yellow Pages can help you find service centers in Hyderabad.\n",
            "\n",
            "Additionally, you can also try the following:\n",
            "\n",
            "* Check social media platforms like Facebook or Twitter for the company's official page and ask for assistance.\n",
            "* Look for reviews and ratings on websites like Google Reviews or Yelp to find the best service center in Hyderabad.\n",
            "* If you have a specific product or service, you can also check the manufacturer's website for authorized service centers in Hyderabad.\n",
            "\n",
            "I hope this helps you find the nearest service center in Hyderabad. If you have any further questions or need more assistance, feel free to ask!\n",
            "\n",
            "\n",
            "Query: What are your Working hours can i visit now?\n",
            "Category: I would categorize the customer query as \"General\". \n",
            "\n",
            "The query is asking about the working hours of the company, which is a general inquiry about the business hours and availability. It's not related to a specific technical issue or billing problem, but rather a question about the company's operational hours.\n",
            "Sentiment: The sentiment of this query is 'Neutral'. \n",
            "\n",
            "The customer is asking for information about the working hours, which suggests they are interested in visiting but want to know if it's a good time. The tone is polite and inquiring, without any negative emotions or complaints.\n",
            "Response: Our working hours are from 9:00 AM to 5:00 PM, Monday to Friday. Unfortunately, our office is currently closed, but you can reach out to us through our website or social media channels for any urgent inquiries. If you'd like to schedule a visit, please let us know a convenient time and date, and we'll do our best to accommodate you.\n",
            "\n",
            "\n"
          ]
        }
      ]
    }
  ]
}